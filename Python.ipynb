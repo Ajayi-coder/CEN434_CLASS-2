{
 "cells": [
  {
   "cell_type": "code",
   "execution_count": 23,
   "metadata": {},
   "outputs": [
    {
     "name": "stdout",
     "output_type": "stream",
     "text": [
      "[[2 2]\n",
      " [2 4]]\n"
     ]
    }
   ],
   "source": [
    "#NUMPY \n",
    "import numpy as np\n",
    "b=[1,0,0,1]\n",
    "a=np.array(b)\n",
    "a=a.reshape(2,2)\n",
    "\n",
    "c=[1,2,2,3]\n",
    "d=np.array(c)\n",
    "d=d.reshape(2,2)\n",
    "\n",
    "print (a+d)"
   ]
  },
  {
   "cell_type": "code",
   "execution_count": 2,
   "metadata": {},
   "outputs": [
    {
     "name": "stdout",
     "output_type": "stream",
     "text": [
      "{'Age': 21, 'height': 1.8, 'colour': 'white'}\n"
     ]
    }
   ],
   "source": [
    "#DICTIONARY\n",
    "d= dict()\n",
    "d={'Age' : 20,\n",
    "   'height' : 1.7,\n",
    "   'colour' : 'black'}\n",
    "d['Age']=21\n",
    "d['height']=1.8\n",
    "d['colour']='white'\n",
    "print(d)"
   ]
  },
  {
   "cell_type": "code",
   "execution_count": 1,
   "metadata": {},
   "outputs": [
    {
     "name": "stdout",
     "output_type": "stream",
     "text": [
      "x    2\n",
      "y    4\n",
      "Name: 1, dtype: int64\n"
     ]
    }
   ],
   "source": [
    "#PANDAS\n",
    "import pandas as pd\n",
    "\n",
    "data = {\n",
    "  \"x\": [1,2,3,4,5], \"y\": [2,4,6,8,10]\n",
    "\t   }\n",
    "\n",
    "#load data into a DataFrame object:\n",
    "\n",
    "df = pd.DataFrame(data)\n",
    "\n",
    "#print(df['x']) #(only displays the table and values of x)\n",
    "#print(df) #(creates a table with 2 columns x&y)\n",
    "#df #(displays the table in an actual table format with bold rows and light rows)\n",
    "print(df.loc[1]) #(used to access values in a table using index numbers e.g print(df.loc[1]) gives x=2 & y=4)"
   ]
  },
  {
   "cell_type": "code",
   "execution_count": 15,
   "metadata": {},
   "outputs": [],
   "source": [
    "#To enable pandas read a csv file(data from excel file)\n",
    "import pandas as pd\n",
    "df=pd.read_csv('data.csv')"
   ]
  }
 ],
 "metadata": {
  "kernelspec": {
   "display_name": "Python 3",
   "language": "python",
   "name": "python3"
  },
  "language_info": {
   "codemirror_mode": {
    "name": "ipython",
    "version": 3
   },
   "file_extension": ".py",
   "mimetype": "text/x-python",
   "name": "python",
   "nbconvert_exporter": "python",
   "pygments_lexer": "ipython3",
   "version": "3.12.0"
  }
 },
 "nbformat": 4,
 "nbformat_minor": 2
}
